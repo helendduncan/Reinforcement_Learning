{
 "cells": [
  {
   "cell_type": "markdown",
   "id": "4d60f1ea",
   "metadata": {},
   "source": [
    "# The k-armed bandit from the book"
   ]
  },
  {
   "cell_type": "code",
   "execution_count": 1,
   "id": "3df884d3",
   "metadata": {},
   "outputs": [],
   "source": [
    "import numpy as np\n",
    "import matplotlib.pyplot as plt"
   ]
  },
  {
   "cell_type": "markdown",
   "id": "75904448",
   "metadata": {},
   "source": [
    "### 2.3 The 10-armed Testbed"
   ]
  },
  {
   "cell_type": "markdown",
   "id": "03a72641",
   "metadata": {},
   "source": [
    "Initially we want to pick k random numbers from a normal distrubution with mean, mu = 0, and sigma = 1. Note that each time we pick we will pick a new set of k random numbers. These values will be the action values, q*(a) shown in figure 2.1"
   ]
  },
  {
   "cell_type": "code",
   "execution_count": 12,
   "id": "409a449b",
   "metadata": {},
   "outputs": [],
   "source": [
    "def bandit_001(k=10, mu=0, sigma=1):\n",
    "    '''\n",
    "    A way to get the initial distributions for the ten-armed bandit\n",
    "    '''\n",
    "    # Default values are k = 10, mu = 0; sigma = 1\n",
    "    action_values = np.random.normal(mu, sigma, k)\n",
    "    # An empty array to put the ten initial distributions in\n",
    "    result = []\n",
    "    for _ in range(k):\n",
    "        # Use the caluclated value of q*(a)for each of the ten bandits as the average for a new distribution\n",
    "        # Use 500 sample points for each normal distribution\n",
    "        val = np.random.normal(action_values[_], sigma, 500)\n",
    "        result.append(val)\n",
    "    fig = plt.figure()\n",
    "    \n",
    "    ax = fig.add_axes([0,0,1,1])\n",
    "    \n",
    "    bp = ax.violinplot(result, showextrema=False, showmeans=True)\n",
    "    ax.set_title('The 10-armed Testbed - optimal run = ' + str(np.argmax(action_values)+1))\n",
    "    ax.set_xlabel('Action')\n",
    "    ax.set_ylabel('Reward Distribution')\n",
    "    plt.axhline(y=0, color='k', linestyle='--')\n",
    "    plt.show()\n",
    "    return(action_values)"
   ]
  },
  {
   "cell_type": "code",
   "execution_count": 13,
   "id": "260e9315",
   "metadata": {},
   "outputs": [
    {
     "data": {
      "image/png": "[encoded data removed]",
      "text/plain": [
       "<Figure size 432x288 with 1 Axes>"
      ]
     },
     "metadata": {
      "needs_background": "light"
     },
     "output_type": "display_data"
    }
   ],
   "source": [
    "av = bandit_001(10)"
   ]
  },
  {
   "cell_type": "markdown",
   "id": "cefc6562",
   "metadata": {},
   "source": [
    "The bandit_001 function returns the list of action values for the k-armed bandit. That is the values of q*(a) for each distribution."
   ]
  },
  {
   "cell_type": "markdown",
   "id": "68da017d",
   "metadata": {},
   "source": [
    "The next step is to run an experiment over 1000 time steps (or pulls of the arm) utilising firstly a greedy approach, then moving onto an epsilon-greedy approach. Note this cycle of a thousand counts as one run"
   ]
  },
  {
   "cell_type": "code",
   "execution_count": 57,
   "id": "e2b68ae2",
   "metadata": {},
   "outputs": [],
   "source": [
    "class Agent(object):\n",
    "    '''\n",
    "    Chooses actions randomly and updates estimates (using sample average)\n",
    "    '''\n",
    "\n",
    "    def __init__(self, k, initial_value=0):\n",
    "        self.k = k\n",
    "        self.initial_value = initial_value\n",
    "        self.value_estimates = initial_value*np.ones(self.k)\n",
    "        self.action_attempts = np.zeros(self.k)\n",
    "        self.t = 0\n",
    "        self.last_action = None\n",
    "        print(self.initial_value)\n",
    "        print(self.value_estimates)\n",
    "        print(self.action_attempts)\n",
    "        print(self.t)\n",
    "        print(self.last_action)"
   ]
  },
  {
   "cell_type": "code",
   "execution_count": 58,
   "id": "1668930e",
   "metadata": {},
   "outputs": [
    {
     "name": "stdout",
     "output_type": "stream",
     "text": [
      "0\n",
      "[0. 0. 0. 0. 0. 0. 0. 0. 0. 0.]\n",
      "[0. 0. 0. 0. 0. 0. 0. 0. 0. 0.]\n",
      "0\n",
      "None\n"
     ]
    }
   ],
   "source": [
    "test1 = Agent(10)\n"
   ]
  },
  {
   "cell_type": "code",
   "execution_count": 40,
   "id": "dbffc46b",
   "metadata": {},
   "outputs": [],
   "source": [
    "def run_001(action_values, nsteps=1000):\n",
    "    '''\n",
    "    Running a greedy experiment for 1000 time steps\n",
    "    In this example we take the action values from the initial bandit experiment, (bandit_001)\n",
    "    next the distribution with the highest/largest mu is picked. \n",
    "    Finally 1000 samples are taken from this distribution. The average reward is worked out at each step\n",
    "    and is plotted and the experimental action value recalculated at each step\n",
    "    '''\n",
    "    experiment_action_values = action_values\n",
    "    greedy_dist=np.argmax(experiment_action_values) # Find the distribution with the highest/largest mu\n",
    "    print(action_values)\n",
    "    greedy_mu=experiment_action_values[greedy_dist] # Pull the value of mu from it\n",
    "    sum_of_rewards=0\n",
    "    running_average=0\n",
    "    sigma = 1\n",
    "    # Make a new sample distribution with that mu and nsteps data points in it\n",
    "    sample_distribution=np.random.normal(greedy_mu,sigma,nsteps) \n",
    "    for _ in range(nsteps):\n",
    "        sum_of_rewards=sum_of_rewards + sample_distribution[_]\n",
    "        running_average=sample_average(sum_of_rewards, _+1)\n",
    "        \n",
    "    print(f'After running for {nsteps} steps, the sample average for distribution {greedy_dist} is {round(running_average,2)}, while the actual average is {round(greedy_mu,2)}')\n",
    "\n",
    "def sample_average(sum_rewards, times_taken):\n",
    "    updated_average = sum_rewards/times_taken\n",
    "    return updated_average\n",
    "    \n",
    "    "
   ]
  },
  {
   "cell_type": "code",
   "execution_count": 41,
   "id": "4c55b368",
   "metadata": {},
   "outputs": [
    {
     "name": "stdout",
     "output_type": "stream",
     "text": [
      "[ 0.17840626  1.35839954  0.21040642  1.04299234  0.0344865   1.12603402\n",
      " -2.02469212  0.7823951   0.49123274  0.84902269]\n",
      "After running for 1000 steps, the sample average for distribution 1 is 1.36, while the actual average is 1.36\n",
      "[ 0.17840626  1.35839954  0.21040642  1.04299234  0.0344865   1.12603402\n",
      " -2.02469212  0.7823951   0.49123274  0.84902269]\n"
     ]
    }
   ],
   "source": [
    "run_001(av)\n",
    "print(av)"
   ]
  },
  {
   "cell_type": "markdown",
   "id": "91b09c6c",
   "metadata": {},
   "source": [
    "Before I get to the experiment though I want to try out a few basic options for the bandit class.\n",
    "Here I have defined a Bandit001 which will be defined based on one normal distribution. \n",
    "It takes in the number of steps (or pulls), an initial estimate for the rolling average (I think this is not actually needed as an argument though, I could just put it in the __init__ block. It also takes in a value for the target mu for the normal distribution. (note target mu defaults to 3.5 if no number is given)\n",
    "\n",
    "Firstly I set an array for the trial results and for the computed average for each step and set them to be nsteps in size and filled with zeros\n",
    "\n",
    "Next I define a function called est. This is a function that will use the calculation for efficiently estimating the average after n steps sampling from a normal distribution outlined in equation 2.3 in the book.\n",
    "The function returns the new estimate, the list of the random numbers picked from the normal distribution and the average calculated at each step.\n",
    "\n",
    "Finally I plot the data just to have a look at it and make sure it seems sensible. In this case the blue circles are the randomly chosen values from the normal distribution with mu=target_mu, and the orange line is the average as calculated at each time step."
   ]
  },
  {
   "cell_type": "code",
   "execution_count": 6,
   "id": "9de66c19",
   "metadata": {},
   "outputs": [],
   "source": [
    "class Bandit001(object):\n",
    "    def __init__(self, steps, old_est=0, targ_mu=3.5):\n",
    "        self.steps = steps\n",
    "        self.old_est = old_est\n",
    "        self.targ_mu = targ_mu\n",
    "        self.new_est = 0\n",
    "        self.trials=np.zeros(steps)\n",
    "        self.avs=np.zeros(steps)\n",
    "        \n",
    "    def est(self):\n",
    "        \"\"\"A function to estimate the average using the calculations from 2.3\"\"\"\n",
    "        for n in range(self.steps):\n",
    "            target = np.random.normal(self.targ_mu)\n",
    "            self.new_est = self.old_est + ((target-self.old_est)/(n+1))\n",
    "            self.old_est=self.new_est\n",
    "            self.trials[n] += target\n",
    "            self.avs[n] += self.new_est\n",
    "        new_est = self.new_est\n",
    "        return self.new_est, self.trials, self.avs\n",
    "    \n",
    "    def plotty(self):\n",
    "        \"\"\"A function to plot the result of the average estimation\"\"\"\n",
    "        x=list(range(self.steps))\n",
    "        fig, ax = plt.subplots()\n",
    "        ax.plot(x, self.trials, '.', label='Trial Values')\n",
    "        ax.plot(x, self.avs,label='Estimated Average')\n",
    "        plt.axhline(y=self.targ_mu, color='k', linestyle='--')\n",
    "        plt.title('Sampling and getting running averages')\n",
    "        plt.xlabel('Number of samples')\n",
    "        plt.ylabel('Score')\n",
    "        plt.legend(loc=\"lower right\")\n",
    "        plt.show()\n",
    "        "
   ]
  },
  {
   "cell_type": "code",
   "execution_count": 7,
   "id": "0b7af07e",
   "metadata": {},
   "outputs": [
    {
     "name": "stdout",
     "output_type": "stream",
     "text": [
      "After 100 runs, the estimated average is 4.3, while the actual average is 4.3\n"
     ]
    },
    {
     "data": {
      "image/png": "[encoded data removed]",
      "text/plain": [
       "<Figure size 432x288 with 1 Axes>"
      ]
     },
     "metadata": {
      "needs_background": "light"
     },
     "output_type": "display_data"
    }
   ],
   "source": [
    "targ_mu=4.3\n",
    "bandit = Bandit001(100, targ_mu=targ_mu)\n",
    "est_av, trials, avs = bandit.est()\n",
    "print(f'After {len(trials)} runs, the estimated average is {round(est_av,1)}, while the actual average is {round(targ_mu,1)}')\n",
    "bandit.plotty()"
   ]
  },
  {
   "cell_type": "markdown",
   "id": "a886c579",
   "metadata": {},
   "source": [
    "Now instead of running this for just one target value, I want to run it for a range of target q*(a) values, specifically the ones I calculated/determined earlier in the page. Lets call this Bandit002"
   ]
  },
  {
   "cell_type": "code",
   "execution_count": 8,
   "id": "6eae43b3",
   "metadata": {},
   "outputs": [],
   "source": [
    "class Bandit002(object):\n",
    "    def __init__(self, steps, action_values):\n",
    "        self.steps=steps\n",
    "        self.action_values=action_values\n",
    "        self.update_est=action_values #This is where the updates of the action values go\n",
    "        self.old_estimate=np.zeros(len(action_values))\n",
    "        self.pulls = np.zeros(len(action_values)) #Count how many pulls there have been\n",
    "        \n",
    "        \n",
    "    def pull(self):\n",
    "        \"\"\"Pull the lever for however many steps are needed\"\"\"\n",
    "        for _ in range(self.steps):\n",
    "            self.optimal_pos=np.argmax(self.action_values) #Position of the highest action value\n",
    "            self.pulls[self.optimal_pos] += 1 #Increment the counting list\n",
    "            print(self.pulls)\n",
    "            print(_, self.update_est[self.optimal_pos])\n",
    "            #target=np.random.normal(self.update_est[self.optimal_pos])\n",
    "            #self.update_est[self.optimal_pos] = self.old_estimate[self.optimal_pos] + \\\n",
    "            #self.pulls[self.optimal_pos]*(target-self.old_estimate[self.optimal_pos])\n",
    "            \n",
    "        #print(self.update_est)\n",
    "        print([round(elem, 2) for elem in self.update_est])\n",
    "        #print(self.pulls)\n",
    "        #print(self.optimal_pos)\n",
    "    \n",
    "        \n",
    "    def average(self):\n",
    "        target=self.update_est[self.optimal_pos]\n",
    "        old_est=self.old_estimate[self.optimal_pos]\n",
    "        n=self.pulls[self.optimal_pos]\n",
    "        print(target,old_est,n)"
   ]
  },
  {
   "cell_type": "code",
   "execution_count": 9,
   "id": "6175cded",
   "metadata": {},
   "outputs": [
    {
     "name": "stdout",
     "output_type": "stream",
     "text": [
      "[2.1, -0.07, -0.03, 0.16, -0.12, 0.47, -1.3, -0.35, -1.36, -1.17]\n",
      "[1. 0. 0. 0. 0. 0. 0. 0. 0. 0.]\n",
      "0 2.095741922137221\n",
      "[2. 0. 0. 0. 0. 0. 0. 0. 0. 0.]\n",
      "1 2.095741922137221\n",
      "[3. 0. 0. 0. 0. 0. 0. 0. 0. 0.]\n",
      "2 2.095741922137221\n",
      "[4. 0. 0. 0. 0. 0. 0. 0. 0. 0.]\n",
      "3 2.095741922137221\n",
      "[5. 0. 0. 0. 0. 0. 0. 0. 0. 0.]\n",
      "4 2.095741922137221\n",
      "[6. 0. 0. 0. 0. 0. 0. 0. 0. 0.]\n",
      "5 2.095741922137221\n",
      "[7. 0. 0. 0. 0. 0. 0. 0. 0. 0.]\n",
      "6 2.095741922137221\n",
      "[8. 0. 0. 0. 0. 0. 0. 0. 0. 0.]\n",
      "7 2.095741922137221\n",
      "[9. 0. 0. 0. 0. 0. 0. 0. 0. 0.]\n",
      "8 2.095741922137221\n",
      "[10.  0.  0.  0.  0.  0.  0.  0.  0.  0.]\n",
      "9 2.095741922137221\n",
      "[2.1, -0.07, -0.03, 0.16, -0.12, 0.47, -1.3, -0.35, -1.36, -1.17]\n",
      "2.095741922137221 0.0 10.0\n"
     ]
    }
   ],
   "source": [
    "action_values = np.random.normal(0, 1, 10)\n",
    "b2=Bandit002(10,action_values)\n",
    "\n",
    "print([round(elem,2) for elem in action_values])\n",
    "b2.pull()\n",
    "b2.average()"
   ]
  },
  {
   "cell_type": "code",
   "execution_count": null,
   "id": "73948b64",
   "metadata": {},
   "outputs": [],
   "source": []
  }
 ],
 "metadata": {
  "kernelspec": {
   "display_name": "Python 3",
   "language": "python",
   "name": "python3"
  },
  "language_info": {
   "codemirror_mode": {
    "name": "ipython",
    "version": 3
   },
   "file_extension": ".py",
   "mimetype": "text/x-python",
   "name": "python",
   "nbconvert_exporter": "python",
   "pygments_lexer": "ipython3",
   "version": "3.8.8"
  }
 },
 "nbformat": 4,
 "nbformat_minor": 5
}
