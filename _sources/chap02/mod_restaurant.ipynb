{
 "cells": [
  {
   "cell_type": "code",
   "execution_count": 1,
   "id": "30e1ecb3",
   "metadata": {},
   "outputs": [],
   "source": [
    "import numpy as np\n",
    "import matplotlib.pyplot as plt\n",
    "import numpy as np\n",
    "import scipy.stats as stats\n",
    "import random\n",
    "%matplotlib inline"
   ]
  },
  {
   "cell_type": "code",
   "execution_count": 2,
   "id": "6a6750ad",
   "metadata": {},
   "outputs": [
    {
     "name": "stdout",
     "output_type": "stream",
     "text": [
      "0 10\n",
      "1 8\n",
      "2 5\n"
     ]
    }
   ],
   "source": [
    "# Restaurant stats\n",
    "m=[10,8,5] #Mean for each of the 3 restaurants\n",
    "s=[5,4,2.5] #Standard deviation for each of the 3 restaurants\n",
    "for i in range(3):\n",
    "    op=np.random.normal(m[i],s[i])"
   ]
  },
  {
   "cell_type": "code",
   "execution_count": 94,
   "id": "ece2ed45",
   "metadata": {},
   "outputs": [],
   "source": [
    "def visit(r):\n",
    "    m=[10,8,5] #Mean for each of the 3 restaurants\n",
    "    s=[5,4,2.5] #Standard deviation for each of the 3 restaurants\n",
    "    op=np.random.normal(m[r],s[r])\n",
    "    return(op)\n",
    "def first_visit():\n",
    "    fv=np.zeros(3)\n",
    "    nvis=np.zeros(3)\n",
    "    for _ in range(3):\n",
    "        fv[_]=visit(_)\n",
    "        nvis[_] += 1\n",
    "    best=np.argmax(fv)\n",
    "    satisfaction=sum(fv)\n",
    "    return(best, fv, satisfaction, nvis)\n",
    "def exploit(best, fv, satisfaction, nvis):\n",
    "    score=fv\n",
    "    for _ in range(297):\n",
    "        satisfaction = visit(best)\n",
    "        score[best] = score[best] + satisfaction\n",
    "        nvis[best] += 1\n",
    "        percent = 100*(nvis[0]/300)\n",
    "    print(f'After one visit, the best restaurant was found to be Restaurant {best+1} - the actual best is Restaurant 1')\n",
    "    print(f'Using the purely exploitative method, the best restaurant was visited {round(percent,2)}% of the time')\n",
    "#     return(score, satisfaction, nvis)\n"
   ]
  },
  {
   "cell_type": "code",
   "execution_count": 140,
   "id": "596c375d",
   "metadata": {},
   "outputs": [
    {
     "name": "stdout",
     "output_type": "stream",
     "text": [
      "After one visit, the best restaurant was found to be Restaurant 2 - the actual best is Restaurant 1\n",
      "Using the purely exploitative method, the best restaurant was visited 0.33% of the time\n"
     ]
    }
   ],
   "source": [
    "best, fv, sat, nvis = first_visit()\n",
    "# score, satis, nvisexp = exploit(best, fv, sat, nvis)\n",
    "exploit(best, fv, sat, nvis)"
   ]
  }
 ],
 "metadata": {
  "kernelspec": {
   "display_name": "Python 3",
   "language": "python",
   "name": "python3"
  },
  "language_info": {
   "codemirror_mode": {
    "name": "ipython",
    "version": 3
   },
   "file_extension": ".py",
   "mimetype": "text/x-python",
   "name": "python",
   "nbconvert_exporter": "python",
   "pygments_lexer": "ipython3",
   "version": "3.8.8"
  }
 },
 "nbformat": 4,
 "nbformat_minor": 5
}
