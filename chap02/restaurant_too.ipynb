{
 "cells": [
  {
   "cell_type": "markdown",
   "id": "a9a5f8fd",
   "metadata": {},
   "source": [
    "### 1.1 Multi-armed bandits: 3 restaurants"
   ]
  },
  {
   "cell_type": "code",
   "execution_count": 1,
   "id": "1f7b935c",
   "metadata": {},
   "outputs": [],
   "source": [
    "import numpy as np\n",
    "import matplotlib.pyplot as plt\n",
    "import numpy as np\n",
    "import scipy.stats as stats\n",
    "import random\n",
    "%matplotlib inline"
   ]
  },
  {
   "cell_type": "markdown",
   "id": "ab5e796f",
   "metadata": {},
   "source": [
    "Here we have a setup discussed on [YouTube](https://www.youtube.com/watch?v=e3L4VocZnnQ) about a visiting professor spending 300 days in a new town. The professor wants to optimise their dining enjoyment of three restaurants. R1, R2 and R3. Each resturant will give an 'average' satisfaction for a meal with some distribution. The goal is to maximise the professors enjoyment and minimise their regret.\n",
    "\n",
    "I'm choosing this as it's similar enough to the 10-armed bandit problem that the epsilon-greedy approaches can be looked at, but it is small enough that all the steps should be easy to follow"
   ]
  },
  {
   "cell_type": "code",
   "execution_count": 2,
   "id": "97fddee1",
   "metadata": {},
   "outputs": [],
   "source": [
    "def restaurant():\n",
    "    \"\"\"Parameters for the three restaurants. Mean and standard deviation\"\"\"\n",
    "    m=[10,8,5] #Mean for each of the 3 restaurants\n",
    "    s=[5,4,2.5] #Standard deviation for each of the 3 restaurants\n",
    "    return m, s"
   ]
  },
  {
   "cell_type": "code",
   "execution_count": 3,
   "id": "5cb8f1bb",
   "metadata": {},
   "outputs": [],
   "source": [
    "def plot_restaurant_dist():\n",
    "    \"\"\"Plot the distrubution of satisfaction of the three restaurants\"\"\"\n",
    "    m, s = restaurant()\n",
    "    colour=['#648FFF','#DC267F','#FFB000']\n",
    "    linestyle=['solid','dotted','dashdot']\n",
    "    for _ in range(len(m)):\n",
    "        x=np.linspace(m[_] - 3*s[_], m[_] + 3*s[_], 100)\n",
    "        plt.plot(x, stats.norm.pdf(x, m[_], s[_]),\n",
    "                 color=colour[_],label=\"Restaurant#\"+str(_+1),\n",
    "                linestyle=linestyle[_])\n",
    "    \n",
    "    plt.xlabel(\"Satisfaction\")\n",
    "    plt.ylabel(\"Probability\")\n",
    "    plt.legend()\n",
    "    plt.show()"
   ]
  },
  {
   "cell_type": "markdown",
   "id": "f4cb5cae",
   "metadata": {},
   "source": [
    "Here we have the distributions of satisfactions for each restaurant. Restaurant 1 has an average satisfaction of 10, with a standard deviation of 5. Restaurant 2 has an average satisfaction of 8, with a standard deviation of 4. Restaurant 3 has an average satisfaction of 5, with a standard deviation of 2.5."
   ]
  },
  {
   "cell_type": "code",
   "execution_count": 4,
   "id": "3aed79cc",
   "metadata": {},
   "outputs": [
    {
     "data": {
      "image/png": "[encoded data removed]",
      "text/plain": [
       "<Figure size 432x288 with 1 Axes>"
      ]
     },
     "metadata": {
      "needs_background": "light"
     },
     "output_type": "display_data"
    }
   ],
   "source": [
    "plot_restaurant_dist()"
   ]
  },
  {
   "cell_type": "markdown",
   "id": "4282d711",
   "metadata": {},
   "source": [
    "#### 1.1.1 Defining the best restaurant\n",
    "Here I want to point out that I'm defining the best restaurant as the one with the highest average, which in this case is restaurant'#'1. When I'm analysing if the optimal choice is made, here I am looking at if Restauran'#'1 was picked.\n",
    "\n",
    "#### 1.1.2 Caveats\n",
    "I want to point out another caveat here. This is a stationary problem. We are assuming that the distributions of the satisfaction for each restaurant remain static (stationary) over time, and therefore information on the satisfaction we got on day 1 is just as relevant as information we got yesterday.\n",
    "\n",
    "If the problem is non-stationary then we need to weight more recent data higher than older data.\n",
    "\n",
    "#### 1.1.3 Averages or sums?\n",
    "The satisfaction can be calculated in a number of ways, we can simply sum the satisfaction from each or we can keep track of the number of visits and get an average by dividing the sum by n, or we can work out the averages incrementally using the following equation:\n",
    "\n",
    "Qn+1 = Qn + 1/n(Rn-Qn)\n",
    "\n",
    "Where the new average of all rewards, Qn+1, is calcualted by the nth average, Qn, and the nth reward, Rn"
   ]
  },
  {
   "cell_type": "code",
   "execution_count": 5,
   "id": "1088d516",
   "metadata": {},
   "outputs": [],
   "source": [
    "def inc_av(n,R,Q):\n",
    "    \"\"\"Equation 2.3 in sutton and Barto\"\"\"\n",
    "    newQ = Q + ((1/n)*(R-Q))\n",
    "    return(newQ)"
   ]
  },
  {
   "cell_type": "markdown",
   "id": "4b1d32f2",
   "metadata": {},
   "source": [
    "### 1.2 Purely Explorative"
   ]
  },
  {
   "cell_type": "markdown",
   "id": "8f1be031",
   "metadata": {},
   "source": [
    "In this example the professor will split their time equally between the three restaurants. So if they are visiting for 100 days, they will visit each restaurant 100 times.\n",
    "I'm adding a bit of noise here, picking 300 random numbers between 1 and 3 (inclusive) but that will still on average give 100 visits per restaurant if we run the experiment enough times."
   ]
  },
  {
   "cell_type": "code",
   "execution_count": 6,
   "id": "e5023cac",
   "metadata": {},
   "outputs": [],
   "source": [
    "def explorative(nvis):\n",
    "    \"\"\"A purely explorative method. Where each resturant is just as likely as the other to be visited\n",
    "    regardless of the overall satisfaction that has been calculated.\"\"\"\n",
    "    inc=np.zeros(3)\n",
    "    q=np.zeros(3)\n",
    "    m, s = restaurant()\n",
    "    for _ in range(nvis):\n",
    "        pick = random.randint(0,2)\n",
    "        inc[pick] += 1\n",
    "        r=np.random.normal(m[pick],s[pick])\n",
    "        q[pick] = inc_av(inc[pick],r,q[pick])\n",
    "    return(q, inc)"
   ]
  },
  {
   "cell_type": "code",
   "execution_count": 7,
   "id": "a301c178",
   "metadata": {},
   "outputs": [],
   "source": [
    "def exp_explore(nexp):\n",
    "    \"\"\"Run the experiment several times\"\"\"\n",
    "    opt_total = 0\n",
    "    nvis=300\n",
    "    sub_opt_total = 0\n",
    "    for _ in range(nexp):\n",
    "        av, eachvis = explorative(nvis)\n",
    "        opt_total += eachvis[0]\n",
    "        sub_opt_total += eachvis[1]\n",
    "        sub_opt_total += eachvis[2]\n",
    "    percent=(opt_total/(nexp*nvis))*100\n",
    "    percent_subopt=100*(sub_opt_total/(nvis*nexp))\n",
    "    print(f'Out of {nexp} experiments, each taking {nvis} days;')\n",
    "    print(f'The optimal restaurant was correctly identified {round(percent,1)}% of the time, based on the calculated mean')\n",
    "    print(f'The professor however, also spent {round(percent_subopt,1)}% of their time at sub-optimal restaurants')\n",
    "    return(percent)"
   ]
  },
  {
   "cell_type": "code",
   "execution_count": 8,
   "id": "662c50b1",
   "metadata": {},
   "outputs": [
    {
     "name": "stdout",
     "output_type": "stream",
     "text": [
      "Out of 1000 experiments, each taking 300 days;\n",
      "The optimal restaurant was correctly identified 33.4% of the time, based on the calculated mean\n",
      "The professor however, also spent 66.6% of their time at sub-optimal restaurants\n"
     ]
    }
   ],
   "source": [
    "explore_percent = exp_explore(1000)"
   ]
  },
  {
   "cell_type": "markdown",
   "id": "bcb8c642",
   "metadata": {},
   "source": [
    "Perhaps unsuprisingly when a restaurant is sampled 100 times a realistic description of the (Gaussian) distribution can be found, this isn't unexpected, but in this method around 2/3 of the time the professor was visiting a sub-optimal restaurant.\n",
    "\n",
    "Can we improve upon this?\n",
    "What about if we only ever go to the 'best' restaurant?"
   ]
  },
  {
   "cell_type": "markdown",
   "id": "b07fdf78",
   "metadata": {},
   "source": [
    "### 1.3 Purely Exploitative\n",
    "In this example, we start with our estimation of the satisfaction from each restaurant as 0, then the professor picks one at random. If the professor has a positive visit there (that is a postive satisfaction) then the professor will exclusively visit there to eat, if the visit results in a negative satisfaction then another restaurant will be picked. We would also need to deal with 'tie breakers'"
   ]
  },
  {
   "cell_type": "code",
   "execution_count": 9,
   "id": "fb493919",
   "metadata": {},
   "outputs": [],
   "source": [
    "def tiebreak(array, dupe):\n",
    "    \"\"\"Tiebreaker\"\"\"\n",
    "    broken=False\n",
    "    while broken is False:\n",
    "        pick = random.randint(0,len(array)-1)\n",
    "        broken = array[pick] == dupe\n",
    "    return pick"
   ]
  },
  {
   "cell_type": "code",
   "execution_count": 10,
   "id": "c2a85983",
   "metadata": {},
   "outputs": [],
   "source": [
    "def exploit(nvis):\n",
    "    \"\"\"A purely exploitative method. Where the restaurant with the highest satisfaction is consistently picked\"\"\"\n",
    "    m, s = restaurant()\n",
    "    inc=np.zeros(3)\n",
    "    q=np.zeros(3)\n",
    "    for _ in range(nvis):\n",
    "        if list(q).count(np.max(q)) > 1:\n",
    "            pick = tiebreak(q,np.max(q))\n",
    "            inc[pick] += 1\n",
    "            r=np.random.normal(m[pick],s[pick])\n",
    "            q[pick] = inc_av(inc[pick],r,q[pick])\n",
    "        else:\n",
    "            pick = np.argmax(q)\n",
    "            inc[pick] += 1\n",
    "            r=np.random.normal(m[pick],s[pick])\n",
    "            q[pick] = inc_av(inc[pick],r,q[pick])\n",
    "    return(q, inc)"
   ]
  },
  {
   "cell_type": "code",
   "execution_count": 11,
   "id": "5876c3a8",
   "metadata": {},
   "outputs": [],
   "source": [
    "def exp_exploit(nexp):\n",
    "    \"\"\"Run the experiment several times\"\"\"\n",
    "    opt_total = 0\n",
    "    nvis=300\n",
    "    sub_opt_total = 0\n",
    "    for _ in range(nexp):\n",
    "        av, eachvis = exploit(nvis)\n",
    "        opt_total += eachvis[0]\n",
    "        sub_opt_total += eachvis[1]\n",
    "        sub_opt_total += eachvis[2]\n",
    "    percent=(opt_total/(nexp*nvis))*100\n",
    "    percent_subopt=100*(sub_opt_total/(nvis*nexp))\n",
    "    print(f'Using this greedy method, where we only visit the apparent best restuaruant, out of {nexp} trials')\n",
    "    print(f'The optimal restaurant was visited {round(percent,1)}% of the time')\n",
    "    print(f'The professor however, spent {round(percent_subopt,1)}% of their time at sub-optimal restaurants')\n",
    "    return percent"
   ]
  },
  {
   "cell_type": "code",
   "execution_count": 12,
   "id": "329f30d7",
   "metadata": {},
   "outputs": [
    {
     "name": "stdout",
     "output_type": "stream",
     "text": [
      "Using this greedy method, where we only visit the apparent best restuaruant, out of 1000 trials\n",
      "The optimal restaurant was visited 33.9% of the time\n",
      "The professor however, spent 66.1% of their time at sub-optimal restaurants\n"
     ]
    }
   ],
   "source": [
    "exploit_percent = exp_exploit(1000)"
   ]
  },
  {
   "cell_type": "markdown",
   "id": "10ef01c0",
   "metadata": {},
   "source": [
    "### 1.3.1 What about if we start with a non-zero average value?\n",
    "Here we see that we only spend around a third of our time at the optimal restaurant, and this does seem to make sense. When we know nothing about the distributions and just pick one at random, as long as we don't have a negative satisfaction there then we will keep going to it, as the other two restuarants will have a satisfaction of 0 still (because they haven't been updated/visited) But what about if we start with an assumption that each restaurant will give us a satisfaction of 5, then we apply the greedy method?exploit_offset_start(nvis)"
   ]
  },
  {
   "cell_type": "code",
   "execution_count": 13,
   "id": "bde9b71d",
   "metadata": {},
   "outputs": [],
   "source": [
    "def exploit_offset(nvis, offset):\n",
    "    \"\"\"A purely exploitative method. Where the restaurant with the highest satisfaction is consistently picked\n",
    "    This time however we assume that all have an initial satisfaction (q) of whatever the offset is\"\"\"\n",
    "    m, s = restaurant()\n",
    "    inc=np.zeros(3)\n",
    "    q=np.ones(3)*offset\n",
    "    for _ in range(nvis):\n",
    "        if list(q).count(np.max(q)) > 1:\n",
    "            pick = tiebreak(q,np.max(q))\n",
    "            inc[pick] += 1\n",
    "            r=np.random.normal(m[pick],s[pick])\n",
    "            q[pick] = inc_av(inc[pick],r,q[pick])\n",
    "        else:\n",
    "            pick = np.argmax(q)\n",
    "            inc[pick] += 1\n",
    "            r=np.random.normal(m[pick],s[pick])\n",
    "            q[pick] = inc_av(inc[pick],r,q[pick])\n",
    "    return(q, inc)"
   ]
  },
  {
   "cell_type": "code",
   "execution_count": 14,
   "id": "c4b303d8",
   "metadata": {},
   "outputs": [],
   "source": [
    "def exp_exploit_offset(nexp,offset):\n",
    "    \"\"\"Run the experiment several times\"\"\"\n",
    "    opt_total = 0\n",
    "    nvis=300\n",
    "    sub_opt_total = 0\n",
    "    for _ in range(nexp):\n",
    "        av, eachvis = exploit_offset(nvis,offset)\n",
    "        opt_total += eachvis[0]\n",
    "        sub_opt_total += eachvis[1]\n",
    "        sub_opt_total += eachvis[2]\n",
    "    percent=(opt_total/(nexp*nvis))*100\n",
    "    percent_subopt=100*(sub_opt_total/(nvis*nexp))\n",
    "    print(f'Using this greedy method, where we only visit the apparent best restuaruant, out of {nexp} trials')\n",
    "    print(f'The optimal restaurant was visited {round(percent,1)}% of the time')\n",
    "    print(f'The professor however, spent {round(percent_subopt,1)}% of their time at sub-optimal restaurants')\n",
    "    return percent"
   ]
  },
  {
   "cell_type": "code",
   "execution_count": 15,
   "id": "48b90d1f",
   "metadata": {},
   "outputs": [
    {
     "name": "stdout",
     "output_type": "stream",
     "text": [
      "Using this greedy method, where we only visit the apparent best restuaruant, out of 1000 trials\n",
      "The optimal restaurant was visited 32.4% of the time\n",
      "The professor however, spent 67.6% of their time at sub-optimal restaurants\n",
      "Using this greedy method, where we only visit the apparent best restuaruant, out of 1000 trials\n",
      "The optimal restaurant was visited 54.0% of the time\n",
      "The professor however, spent 46.0% of their time at sub-optimal restaurants\n",
      "Using this greedy method, where we only visit the apparent best restuaruant, out of 1000 trials\n",
      "The optimal restaurant was visited 68.1% of the time\n",
      "The professor however, spent 31.9% of their time at sub-optimal restaurants\n",
      "Using this greedy method, where we only visit the apparent best restuaruant, out of 1000 trials\n",
      "The optimal restaurant was visited 70.3% of the time\n",
      "The professor however, spent 29.7% of their time at sub-optimal restaurants\n"
     ]
    }
   ],
   "source": [
    "exploit_offset_2 = exp_exploit_offset(1000,2)\n",
    "exploit_offset_5 = exp_exploit_offset(1000,5)\n",
    "exploit_offset_10 = exp_exploit_offset(1000,10)\n",
    "exploit_offset_50 = exp_exploit_offset(1000,50)"
   ]
  },
  {
   "cell_type": "markdown",
   "id": "e30293f3",
   "metadata": {},
   "source": [
    "### 1.4 Epsilon Greedy\n",
    "In the epsilon greedy example, we try to balance the desire to explore (to get to know the distributions of the three restaurants sufficiently well) with the desire to exploit (to go to the restaurant that will give us the greatest satisfaction). The process here, is to pick a value of epsilon (say 10%) and for that percentage of the time of the professor's visit, they will pick a restaurant at random. For the other 90% of the time in this case, they will visit the restaurant that they have calculated will give them the greatest satisfaction. Now this calculation may change after more visits to the three restaurants give a more realistic idea of their satisfaction. As with the exploitative method, we do need to pick a restaurant at random to start with."
   ]
  },
  {
   "cell_type": "code",
   "execution_count": 16,
   "id": "6754f41e",
   "metadata": {},
   "outputs": [],
   "source": [
    "def epsilon_greedy(nvis, epsilon):\n",
    "    \"\"\"A mix of exploitative and exploratory methods. \n",
    "   There is a probability that even when some informaiton about the distribution of the satisfactions is known\n",
    "   that the algorithm will pick a random restaurant, not just the best one\"\"\"\n",
    "    m, s = restaurant()\n",
    "    inc=np.zeros(3)\n",
    "    q=np.zeros(3)\n",
    "    for _ in range(nvis):\n",
    "        chkeps=np.random.uniform()\n",
    "        if(chkeps < epsilon):\n",
    "            # If the random number is greater than epsilon then pick a random restaurant\n",
    "            pick = random.randint(0,2)\n",
    "            inc[pick] += 1\n",
    "            r=np.random.normal(m[pick],s[pick])\n",
    "            q[pick] = inc_av(inc[pick],r,q[pick])\n",
    "        elif list(q).count(np.max(q)) > 1:\n",
    "            # Deal with tiebreak\n",
    "            pick = tiebreak(q,np.max(q))\n",
    "            inc[pick] += 1\n",
    "            r=np.random.normal(m[pick],s[pick])\n",
    "            q[pick] = inc_av(inc[pick],r,q[pick])\n",
    "        else:\n",
    "            # Pick the best restaurant\n",
    "            pick = np.argmax(q)\n",
    "            inc[pick] += 1\n",
    "            r=np.random.normal(m[pick],s[pick])\n",
    "            q[pick] = inc_av(inc[pick],r,q[pick])\n",
    "    return(q, inc)"
   ]
  },
  {
   "cell_type": "code",
   "execution_count": 17,
   "id": "3b462960",
   "metadata": {},
   "outputs": [],
   "source": [
    "def exp_eps_greedy(nexp,epsilon):\n",
    "    \"\"\"Run the experiment several times\"\"\"\n",
    "    nvis=300\n",
    "    sub_opt_total = 0\n",
    "    opt_total = 0\n",
    "    for _ in range(nexp):\n",
    "        av, eachvis = epsilon_greedy(nvis,epsilon)\n",
    "        opt_total += eachvis[0]\n",
    "        sub_opt_total += eachvis[1]\n",
    "        sub_opt_total += eachvis[2]\n",
    "    percent=(opt_total/(nexp*nvis))*100\n",
    "    percent_subopt=100*(sub_opt_total/(nvis*nexp))\n",
    "    print(f'Using this epsilon greedy method, with epsilon = {epsilon}, and out of {nexp} trials')\n",
    "    print(f'The optimal restaurant was visited {round(percent,1)}% of the time')\n",
    "    print(f'The professor however, spent {round(percent_subopt,1)}% of their time at sub-optimal restaurants')\n",
    "    return percent"
   ]
  },
  {
   "cell_type": "code",
   "execution_count": 18,
   "id": "fc07aa14",
   "metadata": {},
   "outputs": [
    {
     "name": "stdout",
     "output_type": "stream",
     "text": [
      "Using this epsilon greedy method, with epsilon = 0.01, and out of 1000 trials\n",
      "The optimal restaurant was visited 47.0% of the time\n",
      "The professor however, spent 53.0% of their time at sub-optimal restaurants\n",
      "Using this epsilon greedy method, with epsilon = 0.1, and out of 1000 trials\n",
      "The optimal restaurant was visited 77.5% of the time\n",
      "The professor however, spent 22.5% of their time at sub-optimal restaurants\n",
      "Using this epsilon greedy method, with epsilon = 0.3, and out of 1000 trials\n",
      "The optimal restaurant was visited 73.5% of the time\n",
      "The professor however, spent 26.5% of their time at sub-optimal restaurants\n",
      "Using this epsilon greedy method, with epsilon = 0.5, and out of 1000 trials\n",
      "The optimal restaurant was visited 63.8% of the time\n",
      "The professor however, spent 36.2% of their time at sub-optimal restaurants\n"
     ]
    }
   ],
   "source": [
    "eps_greedy_001 = exp_eps_greedy(1000,0.01)\n",
    "eps_greedy_01 = exp_eps_greedy(1000,0.1)\n",
    "eps_greedy_03 = exp_eps_greedy(1000,0.3)\n",
    "eps_greedy_05 = exp_eps_greedy(1000,0.5)"
   ]
  },
  {
   "cell_type": "code",
   "execution_count": 19,
   "id": "232e7184",
   "metadata": {},
   "outputs": [
    {
     "data": {
      "image/png": "[encoded data removed]",
      "text/plain": [
       "<Figure size 432x288 with 1 Axes>"
      ]
     },
     "metadata": {
      "needs_background": "light"
     },
     "output_type": "display_data"
    }
   ],
   "source": [
    "x = [\n",
    "    'Explore', \n",
    "    'Exploit', \n",
    "    'Exploit offset = 2', \n",
    "    'Exploit offset = 5', \n",
    "    'Exploit offset = 10', \n",
    "    'Exploit offset = 50', \n",
    "    'Epsilon Greedy eps=0.01', \n",
    "    'Epsilon Greedy eps=0.1', \n",
    "    'Epsilon Greedy eps=0.3',\n",
    "    'Epsilon Greedy eps=0.5'\n",
    "    ]\n",
    "results = [\n",
    "    explore_percent,\n",
    "    exploit_percent,\n",
    "    exploit_offset_2,\n",
    "    exploit_offset_5,\n",
    "    exploit_offset_10,\n",
    "    exploit_offset_50,\n",
    "    eps_greedy_001,\n",
    "    eps_greedy_01,\n",
    "    eps_greedy_03,\n",
    "    eps_greedy_05\n",
    "        ]\n",
    "colour=['#648FFF','#DC267F','#DC267F','#DC267F','#DC267F','#DC267F','#FFB000','#FFB000','#FFB000','#FFB000']\n",
    "hatch = ['/','','x','-','O','+','x','-','O','+']\n",
    "\n",
    "x_pos = [i for i, _ in enumerate(x)]\n",
    "\n",
    "plt.barh(x_pos, results, color=colour,hatch=hatch,linestyle='-')\n",
    "plt.ylabel(\"Searching Method\")\n",
    "plt.xlabel(\"Percentage of time spent at optimal restaurant\")\n",
    "plt.title(\"Percentage of visits to best restaurant after 1,000 experiments\")\n",
    "\n",
    "plt.yticks(x_pos, x)\n",
    "plt.xlim([0,100])\n",
    "\n",
    "plt.show()"
   ]
  },
  {
   "cell_type": "code",
   "execution_count": null,
   "id": "ae333f4e",
   "metadata": {},
   "outputs": [],
   "source": []
  }
 ],
 "metadata": {
  "kernelspec": {
   "display_name": "Python 3",
   "language": "python",
   "name": "python3"
  },
  "language_info": {
   "codemirror_mode": {
    "name": "ipython",
    "version": 3
   },
   "file_extension": ".py",
   "mimetype": "text/x-python",
   "name": "python",
   "nbconvert_exporter": "python",
   "pygments_lexer": "ipython3",
   "version": "3.8.8"
  }
 },
 "nbformat": 4,
 "nbformat_minor": 5
}
