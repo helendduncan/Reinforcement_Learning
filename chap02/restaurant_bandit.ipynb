{
 "cells": [
  {
   "cell_type": "markdown",
   "id": "0ee05c4d",
   "metadata": {},
   "source": [
    "### 1.1 Multi-armed bandits: 3 restaurants"
   ]
  },
  {
   "cell_type": "code",
   "execution_count": 487,
   "id": "320c7a82",
   "metadata": {},
   "outputs": [],
   "source": [
    "import numpy as np\n",
    "import matplotlib.pyplot as plt\n",
    "import numpy as np\n",
    "import scipy.stats as stats\n",
    "import random\n",
    "%matplotlib inline"
   ]
  },
  {
   "cell_type": "markdown",
   "id": "2bf3b9d4",
   "metadata": {},
   "source": [
    "Here we have a setup discussed on [YouTube](https://www.youtube.com/watch?v=e3L4VocZnnQ) about a visiting professor spending 300 days in a new town. The professor wants to optimise their dining enjoyment of three restaurants. R1, R2 and R3. Each resturant will give an 'average' satisfaction for a meal with some distribution. The goal is to maximise the professors enjoyment and minimise their regret.\n",
    "\n",
    "I'm choosing this as it's similar enough to the 10-armed bandit problem that the epsilon-greedy approaches can be looked at, but it is small enough that all the steps should be easy to follow"
   ]
  },
  {
   "cell_type": "code",
   "execution_count": 484,
   "id": "3db65b40",
   "metadata": {},
   "outputs": [],
   "source": [
    "def restaurants():\n",
    "    \"\"\"\n",
    "    Graph the probability distributions of the three restaurants based on the video\n",
    "    \"\"\"\n",
    "    \n",
    "    m=[10,8,5] #Mean for each of the 3 restaurants\n",
    "    s=[5,4,2.5] #Standard deviation for each of the 3 restaurants\n",
    "    \n",
    "    rest=['Restaurant 1', 'Restaurant 2', 'Restaurant 3']\n",
    "    colour=['gold','firebrick','mediumpurple']\n",
    "    nrows=1\n",
    "    ncols=int(len(rest)/nrows)\n",
    "    fig, ax2d=plt.subplots(nrows,ncols)\n",
    "    fig.set_size_inches(12,3)\n",
    "    fig.subplots_adjust(wspace=0.4)\n",
    "    ax=np.ravel(ax2d)\n",
    "    \n",
    "    for count, r in enumerate(rest):\n",
    "        mu=m[count]\n",
    "        sigma=s[count]\n",
    "        x = np.linspace(mu - 3*sigma, mu + 3*sigma, 100)\n",
    "        ax[count].plot(x, stats.norm.pdf(x, mu, sigma),color=colour[count])\n",
    "        ax[count].set_title(rest[count])\n",
    "\n",
    "def show_all_three():\n",
    "    \"\"\"\n",
    "    Graph the probability distributions of the three restaurants together\n",
    "    \"\"\"\n",
    "    m=[10,8,5] #Mean for each of the 3 restaurants\n",
    "    s=[5,4,2.5] #Standard deviation for each of the 3 restaurants\n",
    "    \n",
    "    rest=['Restaurant 1', 'Restaurant 2', 'Restaurant 3']\n",
    "    colour=['gold','firebrick','mediumpurple']\n",
    "    for count, r in enumerate(rest):\n",
    "        x=np.linspace(m[count] - 3*s[count], m[count] + 3*s[count], 100)\n",
    "        plt.plot(x, stats.norm.pdf(x, m[count], s[count]),color=colour[count],label=rest[count])\n",
    "    \n",
    "    plt.xlabel(\"Satisfaction\")\n",
    "    plt.ylabel(\"Probability\")\n",
    "    plt.legend()\n",
    "    plt.show()\n",
    "        \n",
    "def visit(r):\n",
    "    \"\"\"\n",
    "    Return a value for the happiness after a visit based on the restaurant's probability distributions\n",
    "    \"\"\"\n",
    "    r=r-1\n",
    "    m=[10,8,5] #Mean for each of the 3 restaurants\n",
    "    s=[5,4,2.5] #Standard deviation for each of the 3 restaurants\n",
    "    \n",
    "    # Generate numbers consistent with the distributions provided\n",
    "    #nsample=1000 #1000 points made up this distribution\n",
    "    #r1=np.random.normal(m[0],s[0],nsample)\n",
    "    #r2=np.random.normal(m[1],s[1],nsample)\n",
    "    #r3=np.random.normal(m[2],s[2],nsample)\n",
    "    \n",
    "    op=np.random.normal(m[r],s[r])\n",
    "    return(op)\n",
    "    "
   ]
  },
  {
   "cell_type": "markdown",
   "id": "4abb4801",
   "metadata": {},
   "source": [
    "Here we have the distributions of satisfactions for each restaurant. Restaurant 1 has an average satisfaction of 10, with a standard deviation of 5. Restaurant 2 has an average satisfaction of 8, with a standard deviation of 4. Restaurant 3 has an average satisfaction of 5, with a standard deviation of 2.5."
   ]
  },
  {
   "cell_type": "code",
   "execution_count": 9,
   "id": "0ff568b5",
   "metadata": {},
   "outputs": [
    {
     "data": {
      "image/png": "[encoded data removed]",
      "text/plain": [
       "<Figure size 432x288 with 1 Axes>"
      ]
     },
     "metadata": {
      "needs_background": "light"
     },
     "output_type": "display_data"
    }
   ],
   "source": [
    "show_all_three()"
   ]
  },
  {
   "cell_type": "markdown",
   "id": "28219a46",
   "metadata": {},
   "source": [
    "### 1.2 Purely Explorative"
   ]
  },
  {
   "cell_type": "markdown",
   "id": "6efed36f",
   "metadata": {},
   "source": [
    "In this example the professor will split their time between the three restaurants. So if they are visiting for 300 days, they will visit each of the three restaurants, 100 times each."
   ]
  },
  {
   "cell_type": "code",
   "execution_count": 73,
   "id": "41ab36b6",
   "metadata": {},
   "outputs": [
    {
     "name": "stdout",
     "output_type": "stream",
     "text": [
      "The satisfaction using a purely explorative method is 2250\n",
      "[100. 100. 100.]\n"
     ]
    }
   ],
   "source": [
    "#Set the initial satisfaction to be 0\n",
    "explore = np.zeros(3)\n",
    "satisfaction=0\n",
    "nrest=3\n",
    "ndaystot=300\n",
    "nvisits=int(ndaystot/nrest)\n",
    "for r in range(1,4,1): #Each of the 3 restaurants\n",
    "    for i in range(nvisits): #number of visits to each restaurant\n",
    "        satisfaction=satisfaction+visit(r)\n",
    "        explore[r-1] += 1\n",
    "print(f'The satisfaction using a purely explorative method is {round(satisfaction)}')\n",
    "print(explore)"
   ]
  },
  {
   "cell_type": "markdown",
   "id": "530159e0",
   "metadata": {},
   "source": [
    "### 1.3 Purely Exploitative"
   ]
  },
  {
   "cell_type": "markdown",
   "id": "33b3089f",
   "metadata": {},
   "source": [
    "In this example the professor visits each of the restaurants only once and based on that one visit decides to exclusively frequent the one which gave them the highest satisfaction score on that first visit.\n",
    "This is known as an exploitative search as you are exploiting the knowledge you already have from one visit to each restaurant to decide on where you will eat. \n",
    "The downside to this is that the satisfaction from each restaurant is derived from a distribution, and looking at the distributions of all three, we can see there is overlap between them all.\n",
    "Restaurant 1 (yellow in the diagram) has the highest mean, but a large standard deviation. Restaurant 1 will not always give you the greatest satisfaction, it depends on where in the distribution the visit samples from.\n"
   ]
  },
  {
   "cell_type": "code",
   "execution_count": 76,
   "id": "0642728d",
   "metadata": {
    "scrolled": true
   },
   "outputs": [
    {
     "name": "stdout",
     "output_type": "stream",
     "text": [
      "Based on a single visit to each; the professor will exclusively dine at Restaurant 2 which gave a satisfaction value of 13.88\n",
      "[1. 1. 1.]\n",
      "1\n",
      "The overall satisfaction using a purely exploitative method is 2948\n",
      "[298.   1.   1.]\n"
     ]
    }
   ],
   "source": [
    "satisfaction=0\n",
    "exploit=np.zeros(3)\n",
    "iscore=[] #Initial score for the restaurant\n",
    "rest=['Restaurant 1', 'Restaurant 2', 'Restaurant 3']\n",
    "for r in range(1,4,1):\n",
    "    iscore.append(visit(r))\n",
    "    exploit[r-1] += 1\n",
    "bestrest=iscore.index(max(iscore))\n",
    "satisfaction=max(iscore)\n",
    "print(f'Based on a single visit to each; the professor will exclusively dine at '\n",
    "      f'{rest[bestrest]} which '\n",
    "      f'gave a satisfaction value of {round(satisfaction,2)}')\n",
    "print(exploit)\n",
    "print(bestrest)\n",
    "\n",
    "\n",
    "# The professor will now visit the resaurant that made the favourable first impression for the \n",
    "# rest of their visit\n",
    "nvisits=ndaystot-nrest\n",
    "\n",
    "for i in range(nvisits):\n",
    "    satisfaction=satisfaction+visit(bestrest)\n",
    "    exploit[bestrest-1] += 1\n",
    "print(f'The overall satisfaction using a purely exploitative method is {round(satisfaction)}')\n",
    "print(exploit)"
   ]
  },
  {
   "cell_type": "markdown",
   "id": "2df0a2d9",
   "metadata": {},
   "source": [
    "### 1.4 Epsilon Greedy"
   ]
  },
  {
   "cell_type": "markdown",
   "id": "e27d6ab0",
   "metadata": {},
   "source": [
    "In the epsilon greedy example, we try to balance the desire to explore (to get to know the distributions of the three restaurants sufficiently well) with the desire to exploit (to go to the restaurant that will give us the greatest satisfaction).\n",
    "The process here, is to pick a value of epsilon (say 10%) and for that percentage of the time of the professor's visit, they will pick a restaurant at random. For the other 90% of the time in this case, they will visit the restaurant that they have calculated will give them the greatest satisfaction. Now this calculation may change after more visits to the three restaurants give a more realistic idea of their satisfaction.\n",
    "As with the exploitative method, we do need to start with one visit to each restaurant. "
   ]
  },
  {
   "cell_type": "code",
   "execution_count": 6,
   "id": "0d7fe4a2",
   "metadata": {},
   "outputs": [],
   "source": [
    "def first_visits():\n",
    "    \"\"\"\n",
    "    A function to visit the three restaurants once each and return the number of the\n",
    "    restaurant with the highest satisfaction after one visit\n",
    "    \"\"\"\n",
    "    iscore=[] #Initial score for the restaurant\n",
    "    summary =[None]*3 #Summary of the results for the 3 restaurants\n",
    "    for r in range(1,4,1):\n",
    "        vis=visit(r)\n",
    "        iscore.append(vis)\n",
    "        summary[r-1]=vis\n",
    "        \n",
    "    bestrest=iscore.index(max(iscore))\n",
    "    r1=[]; r2=[]; r3=[]\n",
    "    r1.append(summary[0]); \n",
    "    r2.append(summary[1]); \n",
    "    r3.append(summary[2])\n",
    "    return(bestrest, r1, r2, r3)"
   ]
  },
  {
   "cell_type": "code",
   "execution_count": 11,
   "id": "639f50b0",
   "metadata": {},
   "outputs": [
    {
     "name": "stdout",
     "output_type": "stream",
     "text": [
      "Based on one visit, the best restaurant is Restaurant #2\n",
      "The scores are: 3.18, 5.51, -3.04\n",
      "The total satisfaction after the inital 3 visits is 6\n",
      "At the end of their visit, the professor thinks Restaurant #2 is the best\n",
      "The professor visited restaurant #1 7 times, Restaurant #2 280 times and Restaurant #3 13 times\n",
      "Their satisfaction was 2840 using the epsilon-greedy method with epsilon = 10%\n"
     ]
    }
   ],
   "source": [
    "# Set a value for epsilon\n",
    "epsilon=10\n",
    "\n",
    "best, r1, r2, r3 = first_visits()\n",
    "satisfaction=r1[0]+r2[0]+r3[0]\n",
    "print(f\"Based on one visit, the best restaurant is Restaurant #{best+1}\")\n",
    "print(f\"The scores are: {round(r1[0],2)}, {round(r2[0],2)}, {round(r3[0],2)}\")\n",
    "print(f\"The total satisfaction after the inital 3 visits is {round(satisfaction)}\")\n",
    "\n",
    "ndaystot=300\n",
    "nvisits=ndaystot-3\n",
    "results=[None]*3\n",
    "# Now the professor has 297 days to either explore or exploit. There is a epsilon percent\n",
    "# chance that on any given day the professor will visit a random restaurant and not\n",
    "# necessarily the best restaurant based on their current information\n",
    "for i in range(nvisits):\n",
    "    ep_tst=random.random()\n",
    "    if (ep_tst < epsilon/100.): # If a random number between 0 and 1 is below 0.1 then\n",
    "        # Pick a random restaurant (between 0 and 2) and add the score to the list\n",
    "        rest=random.randrange(0,3)\n",
    "        val=visit(rest)\n",
    "        if rest == 0:\n",
    "            r1.append(val)\n",
    "        if rest == 1:\n",
    "            r2.append(val)\n",
    "        if rest == 2:\n",
    "            r3.append(val)\n",
    "        # Work out the averages of each list and pick the restaurant with the highest\n",
    "        # average rating\n",
    "        averages=[np.mean(r1),np.mean(r2),np.mean(r3)]\n",
    "        best=averages.index(max(averages))\n",
    "    else:\n",
    "        val=visit(best)\n",
    "        if best == 0:\n",
    "            r1.append(val)\n",
    "        if best == 1:\n",
    "            r2.append(val)\n",
    "        if best == 2:\n",
    "            r3.append(val)\n",
    "        averages=[np.mean(r1),np.mean(r2),np.mean(r3)]\n",
    "        best=averages.index(max(averages)) \n",
    "    satisfaction=satisfaction+val\n",
    "    \n",
    "print(f\"At the end of their visit, the professor thinks Restaurant #{best+1} is the best\")\n",
    "print(f\"The professor visited restaurant #1 {len(r1)} times, Restaurant #2 {len(r2)} times and Restaurant #3 {len(r3)} times\")\n",
    "print(f\"Their satisfaction was {round(satisfaction)} using the epsilon-greedy method with epsilon = {epsilon}%\")"
   ]
  },
  {
   "cell_type": "markdown",
   "id": "54264488",
   "metadata": {},
   "source": [
    "### 1.5 Analysis"
   ]
  },
  {
   "cell_type": "markdown",
   "id": "c3a9124e",
   "metadata": {},
   "source": [
    "So what can we say about the number of times the optimal restaurant was picked. (Where we define optimal as the restaurant with the highest mean satisfaction, therefore is Restaurant 1)?"
   ]
  },
  {
   "cell_type": "code",
   "execution_count": 485,
   "id": "2e2619c8",
   "metadata": {},
   "outputs": [],
   "source": [
    "#Put it all together\n",
    "# Explore\n",
    "def explore():\n",
    "    explore=np.zeros(3)\n",
    "    satisfaction=0\n",
    "    for _ in range(300):\n",
    "        rd = random.random()\n",
    "        if rd < 1/3:\n",
    "            explore[0] += 1\n",
    "            satisfaction = satisfaction + visit(1)\n",
    "        if 1/3 <= rd <= 2/3:\n",
    "            explore[1] += 1\n",
    "            satisfaction = satisfaction + visit(2)\n",
    "        if rd > 2/3:\n",
    "            explore[2] += 1\n",
    "            satisfaction = satisfaction + visit(3)\n",
    "    percent=100*(explore[0]/sum(explore))\n",
    "    print(f'The satisfaction using a purely explorative method is {round(satisfaction)}')\n",
    "    print(f'The optimal restaurant was picked {round(percent,2)}% of the time.')\n",
    "\n",
    "def exploit():\n",
    "    exploit=np.zeros(3)\n",
    "    first_visit=np.zeros(3)\n",
    "    satisfaction=0\n",
    "    for _ in range(3):\n",
    "        satisfaction = satisfaction + visit(_+1)\n",
    "        first_visit[_] = satisfaction\n",
    "        exploit[_] += 1\n",
    "    best_one_vis=np.argmax(first_visit)\n",
    "    print(best_one_vis, first_visit)\n",
    "    for _ in range(297):\n",
    "        satisfaction = satisfaction + visit(best_one_vis-1)\n",
    "        exploit[best_one_vis] +=  1\n",
    "    print(first_visit)\n",
    "    print(exploit)\n",
    "    \n",
    "    print(f'The satisfaction using a purely explorative method is {round(satisfaction)}')\n",
    "    print(f'The optimal restaurant was picked {round(percent,2)}% of the time.')"
   ]
  },
  {
   "cell_type": "code",
   "execution_count": 486,
   "id": "e0943b70",
   "metadata": {},
   "outputs": [
    {
     "name": "stdout",
     "output_type": "stream",
     "text": [
      "The satisfaction using a purely explorative method is 2215\n",
      "The optimal restaurant was picked 33.0% of the time.\n",
      "2 [16.6022325  20.05089009 24.9115203 ]\n",
      "[16.6022325  20.05089009 24.9115203 ]\n",
      "[  1.   1. 298.]\n",
      "The satisfaction using a purely explorative method is 2945\n",
      "The optimal restaurant was picked 33.0% of the time.\n"
     ]
    }
   ],
   "source": [
    "explore()\n",
    "exploit()"
   ]
  }
 ],
 "metadata": {
  "kernelspec": {
   "display_name": "Python 3",
   "language": "python",
   "name": "python3"
  },
  "language_info": {
   "codemirror_mode": {
    "name": "ipython",
    "version": 3
   },
   "file_extension": ".py",
   "mimetype": "text/x-python",
   "name": "python",
   "nbconvert_exporter": "python",
   "pygments_lexer": "ipython3",
   "version": "3.8.8"
  }
 },
 "nbformat": 4,
 "nbformat_minor": 5
}
